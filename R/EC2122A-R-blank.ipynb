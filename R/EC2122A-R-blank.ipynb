{
 "cells": [
  {
   "cell_type": "markdown",
   "metadata": {},
   "source": [
    "# Intro to Econometrics with R\n",
    "\n",
    "Hans Martinez\n",
    "Western University\n",
    "\n",
    "## R Basics\n",
    "\n",
    "### What is R?\n",
    "R is a programming language and free software environment for statistical computing and graphics. It's widely used among statisticians and data miners for developing statistical software and data analysis.\n",
    "\n",
    "```{r}\n",
    "# This is an R code cell\n",
    "print(\"Hello, welcome to R!\")\n",
    "```\n"
   ]
  },
  {
   "cell_type": "code",
   "execution_count": null,
   "metadata": {
    "vscode": {
     "languageId": "r"
    }
   },
   "outputs": [],
   "source": [
    "# This is an R code cell\n"
   ]
  },
  {
   "cell_type": "markdown",
   "metadata": {},
   "source": [
    "\n",
    "\n",
    "### Types of variables\n",
    "\n",
    "#### Strings\n",
    "```{r}\n",
    "# String variable\n",
    "name <- \"John Doe\"\n",
    "print(name)\n",
    "```\n"
   ]
  },
  {
   "cell_type": "code",
   "execution_count": null,
   "metadata": {
    "vscode": {
     "languageId": "r"
    }
   },
   "outputs": [],
   "source": [
    "# String variable\n"
   ]
  },
  {
   "cell_type": "markdown",
   "metadata": {},
   "source": [
    "\n",
    "#### Integers\n",
    "```{r}\n",
    "# Integer variable\n",
    "age <- 25L  # The 'L' suffix denotes an integer\n",
    "print(age)\n",
    "```\n"
   ]
  },
  {
   "cell_type": "code",
   "execution_count": null,
   "metadata": {
    "vscode": {
     "languageId": "r"
    }
   },
   "outputs": [],
   "source": [
    "# Integer variable\n"
   ]
  },
  {
   "cell_type": "markdown",
   "metadata": {},
   "source": [
    "#### Float (Numeric)\n",
    "\n",
    "```{r}\n",
    "# Float variable\n",
    "height <- 5.9\n",
    "print(height)\n",
    "```\n"
   ]
  },
  {
   "cell_type": "code",
   "execution_count": null,
   "metadata": {
    "vscode": {
     "languageId": "r"
    }
   },
   "outputs": [],
   "source": [
    "# Float variable\n"
   ]
  },
  {
   "cell_type": "markdown",
   "metadata": {},
   "source": [
    "\n",
    "#### Logic (Boolean)\n",
    "```{r}\n",
    "# Logical variable\n",
    "is_student <- TRUE\n",
    "print(is_student)\n",
    "```\n"
   ]
  },
  {
   "cell_type": "code",
   "execution_count": null,
   "metadata": {
    "vscode": {
     "languageId": "r"
    }
   },
   "outputs": [],
   "source": [
    "# Logical variable\n"
   ]
  },
  {
   "cell_type": "markdown",
   "metadata": {},
   "source": [
    "### Collections of variables\n",
    "\n",
    "#### Vectors\n",
    "```{r}\n",
    "# Vector\n",
    "numbers <- c(1, 2, 3, 4, 5)\n",
    "print(numbers)\n",
    "```\n"
   ]
  },
  {
   "cell_type": "code",
   "execution_count": null,
   "metadata": {
    "vscode": {
     "languageId": "r"
    }
   },
   "outputs": [],
   "source": [
    "# Vector\n"
   ]
  },
  {
   "cell_type": "markdown",
   "metadata": {},
   "source": [
    "#### Lists\n",
    "```{r}\n",
    "# List\n",
    "person <- list(name=\"John\", age=25, height=5.9)\n",
    "print(person)\n",
    "```\n"
   ]
  },
  {
   "cell_type": "code",
   "execution_count": null,
   "metadata": {
    "vscode": {
     "languageId": "r"
    }
   },
   "outputs": [],
   "source": [
    "# List\n"
   ]
  },
  {
   "cell_type": "markdown",
   "metadata": {},
   "source": [
    "#### Data Frames\n",
    "```{r}\n",
    "# Data Frame\n",
    "df <- data.frame(\n",
    "  name = c(\"John\", \"Jane\", \"Mike\"),\n",
    "  age = c(25, 30, 35),\n",
    "  height = c(5.9, 5.6, 6.1)\n",
    ")\n",
    "print(df)\n",
    "```\n"
   ]
  },
  {
   "cell_type": "code",
   "execution_count": null,
   "metadata": {
    "vscode": {
     "languageId": "r"
    }
   },
   "outputs": [],
   "source": [
    "# Data Frame\n"
   ]
  },
  {
   "cell_type": "markdown",
   "metadata": {},
   "source": [
    "### Arithmetic functions\n",
    "```{r}\n",
    "a <- 10\n",
    "b <- 5\n",
    "\n",
    "print(paste(\"Addition:\", a + b))\n",
    "print(paste(\"Subtraction:\", a - b))\n",
    "print(paste(\"Multiplication:\", a * b))\n",
    "print(paste(\"Division:\", a / b))\n",
    "print(paste(\"Exponentiation:\", a ^ 2))\n",
    "```\n"
   ]
  },
  {
   "cell_type": "code",
   "execution_count": null,
   "metadata": {
    "vscode": {
     "languageId": "r"
    }
   },
   "outputs": [],
   "source": [
    "# Basic arithmetic functions\n"
   ]
  },
  {
   "cell_type": "markdown",
   "metadata": {},
   "source": [
    "### Logical functions\n",
    "```{r}\n",
    "x <- 10\n",
    "y <- 5\n",
    "\n",
    "print(paste(\"x > y:\", x > y))\n",
    "print(paste(\"x < y:\", x < y))\n",
    "print(paste(\"x == y:\", x == y))\n",
    "print(paste(\"x != y:\", x != y))\n",
    "```\n"
   ]
  },
  {
   "cell_type": "code",
   "execution_count": null,
   "metadata": {
    "vscode": {
     "languageId": "r"
    }
   },
   "outputs": [],
   "source": [
    "# Logical functions\n"
   ]
  },
  {
   "cell_type": "markdown",
   "metadata": {},
   "source": [
    "### Functions\n",
    "\n",
    "R comes with built-in functions that one can apply to data.\n",
    "\n",
    "```{r}\n",
    "# Some R built-in functions\n",
    "a<-1.5\n",
    "log_a <-log(a)\n",
    "exp_a <- exp(a)\n",
    "sqrt_a <- sqrt(a)\n",
    "\n",
    "print(paste(\"The log of\",a,\"is\",log_a))\n",
    "print(paste(\"The exp of\",a,\"is\",exp_a))\n",
    "print(paste(\"The square root of\",a,\"is\",sqrt_a))\n",
    "\n",
    "```\n"
   ]
  },
  {
   "cell_type": "code",
   "execution_count": null,
   "metadata": {
    "vscode": {
     "languageId": "r"
    }
   },
   "outputs": [],
   "source": [
    "# Some R built-in functions\n"
   ]
  },
  {
   "cell_type": "markdown",
   "metadata": {},
   "source": [
    "We can also define our own functions\n",
    "\n",
    "```{r}\n",
    "# Define a function\n",
    "square <- function(x) {\n",
    "  return(x^2)\n",
    "}\n",
    "\n",
    "# Use the function\n",
    "result <- square(4)\n",
    "print(paste(\"The square of 4 is:\", result))\n",
    "```\n"
   ]
  },
  {
   "cell_type": "code",
   "execution_count": null,
   "metadata": {
    "vscode": {
     "languageId": "r"
    }
   },
   "outputs": [],
   "source": [
    "# User defined function\n"
   ]
  },
  {
   "cell_type": "markdown",
   "metadata": {},
   "source": [
    "\n",
    "## Data Visualization\n",
    "\n",
    "### Reading Data from File\n",
    "\n",
    "```{r}\n",
    "# Reading data from file\n",
    "heroes<-read.csv(\"Super_Heroes.csv\")\n",
    "\n",
    "names(heroes) |> print()\n",
    "\n",
    "```\n"
   ]
  },
  {
   "cell_type": "code",
   "execution_count": null,
   "metadata": {
    "vscode": {
     "languageId": "r"
    }
   },
   "outputs": [],
   "source": [
    "# Reading data from file\n",
    "heroes<-read.csv(\"Super_Heroes.csv\")\n",
    "\n",
    "names(heroes) |> print()"
   ]
  },
  {
   "cell_type": "markdown",
   "metadata": {},
   "source": [
    "### Tables\n",
    "```{r}\n",
    "# Create a simple table\n",
    "table(heroes$Alignment) |> as.data.frame() |> print()\n",
    "\n",
    "```\n"
   ]
  },
  {
   "cell_type": "code",
   "execution_count": null,
   "metadata": {
    "vscode": {
     "languageId": "r"
    }
   },
   "outputs": [],
   "source": [
    "# Create a simple table\n",
    "table(heroes$Alignment) |> as.data.frame() |> print()"
   ]
  },
  {
   "cell_type": "markdown",
   "metadata": {},
   "source": [
    "\n",
    "### Cross tables\n",
    "```{r}\n",
    "# Create a cross table\n",
    "\n",
    "with(\n",
    "    heroes,\n",
    "    table(\n",
    "    Publisher,\n",
    "    Gender\n",
    "    )\n",
    ")\n",
    "```\n",
    "\n"
   ]
  },
  {
   "cell_type": "code",
   "execution_count": null,
   "metadata": {
    "vscode": {
     "languageId": "r"
    }
   },
   "outputs": [],
   "source": [
    "# Create a cross table\n",
    "\n",
    "with(\n",
    "    heroes,\n",
    "    table(\n",
    "    Publisher,\n",
    "    Gender\n",
    "    )\n",
    ")"
   ]
  },
  {
   "cell_type": "markdown",
   "metadata": {},
   "source": [
    "### Bar plot\n",
    "```{r}\n",
    "# Barplot\n",
    "barplot(table(heroes$Alignment), main=\"Heros by Alignment\",\n",
    "xlab=\"Alignment\")\n",
    "```\n"
   ]
  },
  {
   "cell_type": "code",
   "execution_count": null,
   "metadata": {
    "vscode": {
     "languageId": "r"
    }
   },
   "outputs": [],
   "source": [
    "# Barplot\n",
    "barplot(table(heroes$Alignment), main=\"Heros by Alignment\",\n",
    "xlab=\"Alignment\")"
   ]
  },
  {
   "cell_type": "markdown",
   "metadata": {},
   "source": [
    "### Pie Chart\n",
    "\n",
    "```{r}\n",
    "# Pie Chart\n",
    "pie(table(heroes$Gender), main=\"Publisher Distribution\")\n",
    "```\n"
   ]
  },
  {
   "cell_type": "code",
   "execution_count": null,
   "metadata": {
    "vscode": {
     "languageId": "r"
    }
   },
   "outputs": [],
   "source": [
    "# Pie Chart\n",
    "pie(table(heroes$Gender), main=\"Publisher Distribution\")"
   ]
  },
  {
   "cell_type": "markdown",
   "metadata": {},
   "source": [
    "## Continuous Variables\n",
    "\n",
    "```{r}\n",
    "# Read data \n",
    "housing <- read.csv(\"california_housing_train.csv\")\n",
    "names(housing) |> print()\n",
    "```"
   ]
  },
  {
   "cell_type": "code",
   "execution_count": null,
   "metadata": {
    "vscode": {
     "languageId": "r"
    }
   },
   "outputs": [],
   "source": [
    "# Read data \n",
    "housing <- read.csv(\"california_housing_train.csv\")\n",
    "names(housing) |> print()"
   ]
  },
  {
   "cell_type": "markdown",
   "metadata": {},
   "source": [
    "\n",
    "### Histogram\n",
    "```{r}\n",
    "# Histogram\n",
    "\n",
    "hist(housing$median_house_value, main=\"House Value Distribution\")\n",
    "```\n"
   ]
  },
  {
   "cell_type": "code",
   "execution_count": null,
   "metadata": {
    "vscode": {
     "languageId": "r"
    }
   },
   "outputs": [],
   "source": [
    "# Histogram\n",
    "with(\n",
    "    housing,\n",
    "    hist(\n",
    "        median_house_value,\n",
    "        main=\"House Value Distribution\"\n",
    "    )\n",
    ")"
   ]
  },
  {
   "cell_type": "markdown",
   "metadata": {},
   "source": [
    "\n",
    "### Scatter plot\n",
    "```{r}\n",
    "with(\n",
    "    housing,\n",
    "    plot(\n",
    "        median_house_value, \n",
    "        total_rooms,\n",
    "        main=\"House Value vs. Rooms\"\n",
    "    )\n",
    ")\n",
    "```\n"
   ]
  },
  {
   "cell_type": "code",
   "execution_count": null,
   "metadata": {
    "vscode": {
     "languageId": "r"
    }
   },
   "outputs": [],
   "source": [
    "with(\n",
    "    housing,\n",
    "    plot(\n",
    "        median_house_value, \n",
    "        median_income,\n",
    "        main=\"House Value vs. Rooms\"\n",
    "    )\n",
    ")"
   ]
  },
  {
   "cell_type": "markdown",
   "metadata": {},
   "source": [
    "\n",
    "### Time series plot\n",
    "```{r}\n",
    "# Read time series data\n",
    "df_ts<-read.csv(\"US_Birthrates_over_Years.csv\")\n",
    "\n",
    "names(ts) |> print()\n",
    "\n",
    "# Plot time series\n",
    "with(\n",
    "    ts,\n",
    "    plot(\n",
    "        Year,\n",
    "        Births1,\n",
    "        type=\"l\",\n",
    "        main=\"Births over Time\"\n",
    "    )\n",
    ")\n",
    "```\n"
   ]
  },
  {
   "cell_type": "code",
   "execution_count": null,
   "metadata": {
    "vscode": {
     "languageId": "r"
    }
   },
   "outputs": [],
   "source": [
    "# Read time series data\n",
    "ts<-read.csv(\"US_Birthrates_over_Years.csv\")\n",
    "\n",
    "names(ts) |> print()"
   ]
  },
  {
   "cell_type": "code",
   "execution_count": null,
   "metadata": {
    "vscode": {
     "languageId": "r"
    }
   },
   "outputs": [],
   "source": [
    "with(\n",
    "    ts,\n",
    "    plot(\n",
    "        Year,\n",
    "        Births1,\n",
    "        type=\"l\",\n",
    "        main=\"Births over Time\"\n",
    "    )\n",
    ")"
   ]
  },
  {
   "cell_type": "markdown",
   "metadata": {},
   "source": [
    "\n",
    "## Data Summaries\n",
    "\n",
    "### Mean, Variance, Median\n",
    "\n",
    "Mean\n",
    "\n",
    "$$\n",
    "\\mu = \\frac{1}{n}\\sum_x x_i\n",
    "$$\n",
    "\n",
    "Variance\n",
    "\n",
    "$$\n",
    "\\sigma^2=\\frac{1}{(N-1)}∑_i^N(x_i-\\mu)^2\n",
    "$$\n",
    "\n",
    "#### Step-by-step\n",
    "\n",
    "```{r}\n",
    "# Step-by-step\n",
    "data <- housing$households\n",
    "\n",
    "# Mean\n",
    "data_sum <- sum(data)\n",
    "n_obs <- length(data)\n",
    "data_mean <- data_sum/n_obs\n",
    "\n",
    "print(paste(\"Mean:\", data_mean))\n",
    "\n",
    "# Variance\n",
    "diffs <- data-data_mean\n",
    "diffs_squared <- diffs^2\n",
    "data_var <- sum(diffs_squared)/(n_obs-1)\n",
    "\n",
    "print(paste(\"Variance:\", data_var))\n",
    "\n",
    "```\n"
   ]
  },
  {
   "cell_type": "code",
   "execution_count": null,
   "metadata": {
    "vscode": {
     "languageId": "r"
    }
   },
   "outputs": [],
   "source": [
    "# Step-by-step\n",
    "data <- housing$households\n",
    "\n",
    "# Mean\n",
    "data_sum <- sum(data)\n",
    "n_obs <- length(data)\n",
    "data_mean <- data_sum/n_obs\n",
    "\n",
    "print(paste(\"Mean:\", data_mean))\n",
    "\n",
    "# Variance\n",
    "diffs <- data-data_mean\n",
    "diffs_squared <- diffs^2\n",
    "data_var <- sum(diffs_squared)/(n_obs-1)\n",
    "\n",
    "print(paste(\"Variance:\", data_var))"
   ]
  },
  {
   "cell_type": "markdown",
   "metadata": {},
   "source": [
    "\n",
    "\n",
    "#### Built-in Functions\n",
    "\n",
    "```{r}\n",
    "# Using built-in functions\n",
    "\n",
    "print(paste(\"Mean:\", mean(data)))\n",
    "print(paste(\"Variance:\", var(data)))\n",
    "print(paste(\"Median:\", median(data)))\n",
    "```\n"
   ]
  },
  {
   "cell_type": "code",
   "execution_count": null,
   "metadata": {
    "vscode": {
     "languageId": "r"
    }
   },
   "outputs": [],
   "source": [
    "# Using built-in functions\n",
    "\n",
    "print(paste(\"Mean:\", mean(data)))\n",
    "print(paste(\"Variance:\", var(data)))\n",
    "print(paste(\"Median:\", median(data)))"
   ]
  },
  {
   "cell_type": "markdown",
   "metadata": {},
   "source": [
    "\n",
    "### Interquartile range\n",
    "```{r}\n",
    "print(paste(\"Interquartile Range:\", IQR(data)))\n",
    "```\n"
   ]
  },
  {
   "cell_type": "code",
   "execution_count": null,
   "metadata": {
    "vscode": {
     "languageId": "r"
    }
   },
   "outputs": [],
   "source": [
    "print(paste(\"Interquartile Range:\", IQR(data)))"
   ]
  },
  {
   "cell_type": "markdown",
   "metadata": {},
   "source": [
    "\n",
    "### Box-and-whisker plots\n",
    "```{r}\n",
    "boxplot(data, main=\"Box-and-Whisker Plot\", ylab=\"Values\")\n",
    "```\n"
   ]
  },
  {
   "cell_type": "code",
   "execution_count": null,
   "metadata": {
    "vscode": {
     "languageId": "r"
    }
   },
   "outputs": [],
   "source": [
    "# Boxplot\n",
    "summary(data) |> print()\n",
    "boxplot(data, outline = FALSE,main=\"Box-and-Whisker Plot\", ylab=\"Values\")\n",
    "# outline = FALSE removes outliers"
   ]
  },
  {
   "cell_type": "markdown",
   "metadata": {},
   "source": [
    "\n",
    "### Weighted Mean and measures of grouped data\n",
    "```{r}\n",
    "values <- housing$median_income\n",
    "weights <- housing$population\n",
    "\n",
    "average_income <- weighted.mean(values, weights)\n",
    "print(paste(\"Weighted Mean:\", average_income))\n",
    "```\n"
   ]
  },
  {
   "cell_type": "code",
   "execution_count": null,
   "metadata": {
    "vscode": {
     "languageId": "r"
    }
   },
   "outputs": [],
   "source": [
    "# Weighted Mean\n",
    "\n",
    "values <- housing$median_income\n",
    "weights <- housing$population\n",
    "\n",
    "average_income <- weighted.mean(values, weights)\n",
    "print(paste(\"Weighted Mean:\", average_income))"
   ]
  },
  {
   "cell_type": "markdown",
   "metadata": {},
   "source": [
    "\n",
    "### Covariance and Correlation\n",
    "```{r}\n",
    "# Correlation of two continuous random variables\n",
    "cor(housing$housing_median_age, housing$median_income)\n",
    "\n",
    "# Correlation of all the random variables in the dataset\n",
    "cor(housing)\n",
    "```\n"
   ]
  },
  {
   "cell_type": "code",
   "execution_count": null,
   "metadata": {
    "vscode": {
     "languageId": "r"
    }
   },
   "outputs": [],
   "source": [
    "# Correlation of two continuous random variables\n",
    "cor(housing$housing_median_age, housing$median_income)\n",
    "\n",
    "# Correlation of all the random variables in the dataset\n",
    "cor(housing)"
   ]
  },
  {
   "cell_type": "code",
   "execution_count": null,
   "metadata": {
    "vscode": {
     "languageId": "r"
    }
   },
   "outputs": [],
   "source": [
    "# Scatter Plots for all the variables in the dataset\n",
    "pairs(housing)"
   ]
  },
  {
   "cell_type": "markdown",
   "metadata": {},
   "source": [
    "### Data Summaries\n",
    "\n",
    "```{r}\n",
    "# Data summaries built-in\n",
    "\n",
    "summary(housing)\n",
    "```"
   ]
  },
  {
   "cell_type": "code",
   "execution_count": 65,
   "metadata": {
    "vscode": {
     "languageId": "r"
    }
   },
   "outputs": [
    {
     "data": {
      "text/plain": [
       "   longitude         latitude     housing_median_age  total_rooms   \n",
       " Min.   :-124.3   Min.   :32.54   Min.   : 1.00      Min.   :    2  \n",
       " 1st Qu.:-121.8   1st Qu.:33.93   1st Qu.:18.00      1st Qu.: 1462  \n",
       " Median :-118.5   Median :34.25   Median :29.00      Median : 2127  \n",
       " Mean   :-119.6   Mean   :35.63   Mean   :28.59      Mean   : 2644  \n",
       " 3rd Qu.:-118.0   3rd Qu.:37.72   3rd Qu.:37.00      3rd Qu.: 3151  \n",
       " Max.   :-114.3   Max.   :41.95   Max.   :52.00      Max.   :37937  \n",
       " total_bedrooms     population      households     median_income    \n",
       " Min.   :   1.0   Min.   :    3   Min.   :   1.0   Min.   : 0.4999  \n",
       " 1st Qu.: 297.0   1st Qu.:  790   1st Qu.: 282.0   1st Qu.: 2.5664  \n",
       " Median : 434.0   Median : 1167   Median : 409.0   Median : 3.5446  \n",
       " Mean   : 539.4   Mean   : 1430   Mean   : 501.2   Mean   : 3.8836  \n",
       " 3rd Qu.: 648.2   3rd Qu.: 1721   3rd Qu.: 605.2   3rd Qu.: 4.7670  \n",
       " Max.   :6445.0   Max.   :35682   Max.   :6082.0   Max.   :15.0001  \n",
       " median_house_value\n",
       " Min.   : 14999    \n",
       " 1st Qu.:119400    \n",
       " Median :180400    \n",
       " Mean   :207301    \n",
       " 3rd Qu.:265000    \n",
       " Max.   :500001    "
      ]
     },
     "metadata": {},
     "output_type": "display_data"
    }
   ],
   "source": [
    "# Data summaries built-in\n",
    "\n",
    "summary(housing)"
   ]
  },
  {
   "cell_type": "markdown",
   "metadata": {},
   "source": [
    "## Probability\n",
    "\n",
    "### Marginal Probabilities Discrete Random Variables\n",
    "\n",
    "```{r}\n",
    "# Marginal Probabilities \n",
    "\n",
    "with(\n",
    "    heroes,\n",
    "    table(\n",
    "        Gender\n",
    "    )\n",
    ") |> proportions()\n",
    "\n",
    "with(\n",
    "    heroes,\n",
    "    table(\n",
    "       Alignment\n",
    "    )\n",
    ") |> proportions()\n",
    "```"
   ]
  },
  {
   "cell_type": "code",
   "execution_count": null,
   "metadata": {
    "vscode": {
     "languageId": "r"
    }
   },
   "outputs": [],
   "source": [
    "# Marginal Probabilities \n",
    "\n",
    "with(\n",
    "    heroes,\n",
    "    table(\n",
    "        Gender\n",
    "    )\n",
    ") |> proportions()\n",
    "\n",
    "with(\n",
    "    heroes,\n",
    "    table(\n",
    "       Alignment\n",
    "    )\n",
    ") |> proportions()"
   ]
  },
  {
   "cell_type": "markdown",
   "metadata": {},
   "source": [
    "### Joint Probabilities of Discrete Random Variables\n",
    "\n",
    "```{r}\n",
    "# Joint Probabilities \n",
    "\n",
    "with(\n",
    "    heroes,\n",
    "    table(\n",
    "        Gender,\n",
    "       Alignment\n",
    "    )\n",
    ") |> proportions()\n",
    "```"
   ]
  },
  {
   "cell_type": "code",
   "execution_count": null,
   "metadata": {
    "vscode": {
     "languageId": "r"
    }
   },
   "outputs": [],
   "source": [
    "# Joint Probabilities \n",
    "\n",
    "with(\n",
    "    heroes,\n",
    "    table(\n",
    "        Gender,\n",
    "       Alignment\n",
    "    )\n",
    ") |> proportions() "
   ]
  },
  {
   "cell_type": "markdown",
   "metadata": {},
   "source": [
    "\n",
    "## Probability Distributions\n",
    "\n",
    "### Discrete Random Variables\n",
    "\n",
    "#### Poisson Distribution\n",
    "\n",
    "- Distribution Plot\n",
    "\n",
    "```{r}\n",
    "# Distribution Plot \n",
    "lambda <- 2\n",
    "n <- 100\n",
    "poisson_points <- rpois(n,lambda)\n",
    "plot(\n",
    "    table(poisson_points), \n",
    "    main=\"Poisson Distribution\",\n",
    "    ylab=\"Probability\",\n",
    "    xlab=\"X\"\n",
    ")\n",
    "```\n"
   ]
  },
  {
   "cell_type": "code",
   "execution_count": null,
   "metadata": {
    "vscode": {
     "languageId": "r"
    }
   },
   "outputs": [],
   "source": [
    "lambda <- 2\n",
    "n <- 100\n",
    "poisson_points <- rpois(n,lambda)\n",
    "plot(\n",
    "    table(poisson_points), \n",
    "    main=\"Poisson Distribution\",\n",
    "    ylab=\"Probability\",\n",
    "    xlab=\"X\"\n",
    ")"
   ]
  },
  {
   "cell_type": "markdown",
   "metadata": {},
   "source": [
    "- Probabilities\n",
    "\n",
    "$$\n",
    "P(X=x|\\lambda)=\\frac{e^{-\\lambda} \\lambda^x}{x!}\n",
    "$$"
   ]
  },
  {
   "cell_type": "code",
   "execution_count": null,
   "metadata": {
    "vscode": {
     "languageId": "r"
    }
   },
   "outputs": [],
   "source": [
    "# Individual Poisson Probabilities\n",
    "dpois(3,4.4)\n",
    "\n",
    "# Cumulative Poisson Probabilities\n",
    "ppois(3,4.4)"
   ]
  },
  {
   "cell_type": "markdown",
   "metadata": {},
   "source": [
    "\n",
    "### Continuous Random Variables\n",
    "\n",
    "#### Normal Distribution\n",
    "\n",
    "- Probability Density Function\n",
    "\n",
    "$$\n",
    "f(x)=\\frac{1}{\\sqrt{2\\pi\\sigma^2}}e^{-(x-\\mu)^2/2\\sigma^2} \\; \\text{for } -\\infty < x < \\infty \n",
    "$$\n",
    "\n",
    "\n",
    "```{r}\n",
    "mu <- 0    # mean\n",
    "sigma <- 1 # standard deviation\n",
    "n <-1000\n",
    "x <- rnorm(n,mu,sigma)\n",
    "\n",
    "hist(x,main=\"Normal Distribution\", xlab=\"X\", ylab=\"Density\")\n",
    "\n",
    "```\n"
   ]
  },
  {
   "cell_type": "code",
   "execution_count": null,
   "metadata": {
    "vscode": {
     "languageId": "r"
    }
   },
   "outputs": [],
   "source": [
    "mu <- 0    # mean\n",
    "sigma <- 1 # standard deviation\n",
    "n <-1000\n",
    "x <- rnorm(n,mu,sigma)\n",
    "\n",
    "hist(x,main=\"Normal Distribution\", xlab=\"X\", ylab=\"Density\")\n"
   ]
  },
  {
   "cell_type": "markdown",
   "metadata": {},
   "source": [
    "- Probability\n",
    "\n",
    "$$\n",
    " P(X\\le x_0)=\\int_{-\\infty}^{x_0} f(x) dx\n",
    "$$\n",
    "\n"
   ]
  },
  {
   "cell_type": "code",
   "execution_count": null,
   "metadata": {
    "vscode": {
     "languageId": "r"
    }
   },
   "outputs": [],
   "source": [
    "pnorm(1,mu,sigma)\n"
   ]
  }
 ],
 "metadata": {
  "kernelspec": {
   "display_name": "R",
   "language": "R",
   "name": "ir"
  },
  "language_info": {
   "codemirror_mode": "r",
   "file_extension": ".r",
   "mimetype": "text/x-r-source",
   "name": "R",
   "pygments_lexer": "r",
   "version": "4.3.2"
  }
 },
 "nbformat": 4,
 "nbformat_minor": 2
}
